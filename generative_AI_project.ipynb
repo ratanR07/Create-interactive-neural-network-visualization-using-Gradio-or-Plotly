{
  "nbformat": 4,
  "nbformat_minor": 0,
  "metadata": {
    "colab": {
      "provenance": []
    },
    "kernelspec": {
      "name": "python3",
      "display_name": "Python 3"
    },
    "language_info": {
      "name": "python"
    }
  },
  "cells": [
    {
      "cell_type": "markdown",
      "source": [
        "Project\n"
      ],
      "metadata": {
        "id": "HLVCa9Nl3jW-"
      }
    },
    {
      "cell_type": "code",
      "source": [
        "import torch\n",
        "import torch.nn as nn\n",
        "import torch.optim as optim\n"
      ],
      "metadata": {
        "id": "ZLowyP7K3nsl"
      },
      "execution_count": 34,
      "outputs": []
    },
    {
      "cell_type": "code",
      "source": [],
      "metadata": {
        "id": "rlp-fo4T3zmG"
      },
      "execution_count": 34,
      "outputs": []
    },
    {
      "cell_type": "markdown",
      "source": [
        "**Define the Dataset**"
      ],
      "metadata": {
        "id": "3_FPi0yW36OB"
      }
    },
    {
      "cell_type": "code",
      "source": [
        "import numpy as np\n",
        "\n",
        "def generate_logic_gate_data(gate='AND'):\n",
        "    X = np.array([[0, 0], [0, 1], [1, 0], [1, 1]], dtype=np.float32)\n",
        "    if gate == 'AND':\n",
        "        Y = np.array([[0], [0], [0], [1]], dtype=np.float32)\n",
        "    elif gate == 'OR':\n",
        "        Y = np.array([[0], [1], [1], [1]], dtype=np.float32)\n",
        "    elif gate == 'XOR':\n",
        "        Y = np.array([[0], [1], [1], [0]], dtype=np.float32)\n",
        "    else:\n",
        "        raise ValueError(\"Unknown gate type\")\n",
        "    return torch.from_numpy(X), torch.from_numpy(Y)\n"
      ],
      "metadata": {
        "id": "WZI9XAmd3qo6"
      },
      "execution_count": 35,
      "outputs": []
    },
    {
      "cell_type": "markdown",
      "source": [
        "**Define model**"
      ],
      "metadata": {
        "id": "XIwrPIMG4BTm"
      }
    },
    {
      "cell_type": "code",
      "source": [
        "class LogicGateNN(nn.Module):\n",
        "    def __init__(self):\n",
        "        super(LogicGateNN, self).__init__()\n",
        "        self.layer1 = nn.Linear(2, 2)\n",
        "        self.layer2 = nn.Linear(2, 1)\n",
        "\n",
        "    def forward(self, x):\n",
        "        x = torch.sigmoid(self.layer1(x))\n",
        "        x = torch.sigmoid(self.layer2(x))\n",
        "        return x\n"
      ],
      "metadata": {
        "id": "aaiUaR6M3vHF"
      },
      "execution_count": 36,
      "outputs": []
    },
    {
      "cell_type": "markdown",
      "source": [
        "**Training the Model**"
      ],
      "metadata": {
        "id": "43DkbhwT4Qv0"
      }
    },
    {
      "cell_type": "code",
      "source": [
        "X, Y = generate_logic_gate_data('AND')\n",
        "model = LogicGateNN()\n",
        "criterion = nn.BCELoss()\n",
        "optimizer = optim.SGD(model.parameters(), lr=0.1)\n",
        "\n",
        "epochs = 10000\n",
        "for epoch in range(epochs):\n",
        "    optimizer.zero_grad()\n",
        "    output = model(X)\n",
        "    loss = criterion(output, Y)\n",
        "    loss.backward()\n",
        "    optimizer.step()\n",
        "    if (epoch+1) % 1000 == 0:\n",
        "        print(f'Epoch [{epoch+1}/{epochs}], Loss: {loss.item():.4f}')\n"
      ],
      "metadata": {
        "colab": {
          "base_uri": "https://localhost:8080/"
        },
        "id": "DnTb5LLb4Sco",
        "outputId": "e7a5ab6d-fbd6-472a-b823-cee20e5f0f00"
      },
      "execution_count": 37,
      "outputs": [
        {
          "output_type": "stream",
          "name": "stdout",
          "text": [
            "Epoch [1000/10000], Loss: 0.3103\n",
            "Epoch [2000/10000], Loss: 0.0687\n",
            "Epoch [3000/10000], Loss: 0.0289\n",
            "Epoch [4000/10000], Loss: 0.0170\n",
            "Epoch [5000/10000], Loss: 0.0117\n",
            "Epoch [6000/10000], Loss: 0.0088\n",
            "Epoch [7000/10000], Loss: 0.0070\n",
            "Epoch [8000/10000], Loss: 0.0058\n",
            "Epoch [9000/10000], Loss: 0.0049\n",
            "Epoch [10000/10000], Loss: 0.0042\n"
          ]
        }
      ]
    },
    {
      "cell_type": "markdown",
      "source": [
        "**MNIST**"
      ],
      "metadata": {
        "id": "LpMxQ3nr4iC4"
      }
    },
    {
      "cell_type": "markdown",
      "source": [
        "**Setup and Imports**"
      ],
      "metadata": {
        "id": "77XHZxZM4lly"
      }
    },
    {
      "cell_type": "code",
      "source": [
        "import torch\n",
        "import torch.nn as nn\n",
        "import torch.optim as optim\n",
        "from torchvision import datasets, transforms\n",
        "from torch.utils.data import DataLoader\n"
      ],
      "metadata": {
        "id": "dObA0aS34nD3"
      },
      "execution_count": 38,
      "outputs": []
    },
    {
      "cell_type": "markdown",
      "source": [
        "**Load and Preprocess the MNIST Dataset**"
      ],
      "metadata": {
        "id": "X8B27fya4u_B"
      }
    },
    {
      "cell_type": "code",
      "source": [
        "transform = transforms.Compose([transforms.ToTensor(), transforms.Normalize((0.5,), (0.5,))])\n",
        "train_dataset = datasets.MNIST(root='./data', train=True, transform=transform, download=True)\n",
        "test_dataset = datasets.MNIST(root='./data', train=False, transform=transform)\n",
        "train_loader = DataLoader(dataset=train_dataset, batch_size=64, shuffle=True)\n",
        "test_loader = DataLoader(dataset=test_dataset, batch_size=64, shuffle=False)\n"
      ],
      "metadata": {
        "id": "TRyTEhjE4rpg"
      },
      "execution_count": 39,
      "outputs": []
    },
    {
      "cell_type": "markdown",
      "source": [
        "**Define the Model**"
      ],
      "metadata": {
        "id": "JHSDpanV5W6r"
      }
    },
    {
      "cell_type": "code",
      "source": [
        "class MNISTNN(nn.Module):\n",
        "    def __init__(self):\n",
        "        super(MNISTNN, self).__init__()\n",
        "        self.layer1 = nn.Linear(28*28, 128)\n",
        "        self.layer2 = nn.Linear(128, 64)\n",
        "        self.layer3 = nn.Linear(64, 10)\n",
        "\n",
        "    def forward(self, x):\n",
        "        x = x.view(-1, 28*28)\n",
        "        x = torch.relu(self.layer1(x))\n",
        "        x = torch.relu(self.layer2(x))\n",
        "        x = self.layer3(x)\n",
        "        return x\n"
      ],
      "metadata": {
        "id": "HyVv71635SeO"
      },
      "execution_count": 40,
      "outputs": []
    },
    {
      "cell_type": "markdown",
      "source": [
        "**Training the Model**"
      ],
      "metadata": {
        "id": "aaQs8hod5eye"
      }
    },
    {
      "cell_type": "code",
      "source": [
        "model = MNISTNN()\n",
        "criterion = nn.CrossEntropyLoss()\n",
        "optimizer = optim.SGD(model.parameters(), lr=0.01)\n",
        "\n",
        "epochs = 5\n",
        "for epoch in range(epochs):\n",
        "    for images, labels in train_loader:\n",
        "        optimizer.zero_grad()\n",
        "        output = model(images)\n",
        "        loss = criterion(output, labels)\n",
        "        loss.backward()\n",
        "        optimizer.step()\n",
        "    print(f'Epoch [{epoch+1}/{epochs}], Loss: {loss.item():.4f}')\n"
      ],
      "metadata": {
        "colab": {
          "base_uri": "https://localhost:8080/"
        },
        "id": "w-2B5O8L5buO",
        "outputId": "19d8f815-c031-480c-9e9c-645aefd125d6"
      },
      "execution_count": 41,
      "outputs": [
        {
          "output_type": "stream",
          "name": "stdout",
          "text": [
            "Epoch [1/5], Loss: 0.7315\n",
            "Epoch [2/5], Loss: 0.3531\n",
            "Epoch [3/5], Loss: 0.3876\n",
            "Epoch [4/5], Loss: 0.5344\n",
            "Epoch [5/5], Loss: 0.1650\n"
          ]
        }
      ]
    },
    {
      "cell_type": "markdown",
      "source": [
        "**Part 2: Visualisation\n",
        "Step 1: Create a Visualisation Interface**"
      ],
      "metadata": {
        "id": "hhS0J-xK5kbB"
      }
    },
    {
      "cell_type": "code",
      "source": [
        "import matplotlib.pyplot as plt\n",
        "def plot_decision_boundary(model, X, Y):\n",
        "    x_min, x_max = X[:, 0].min() - 1, X[:, 0].max() + 1\n",
        "    y_min, y_max = X[:, 1].min() - 1, X[:, 1].max() + 1\n",
        "    xx, yy = np.meshgrid(np.arange(x_min, x_max, 0.01), np.arange(y_min, y_max, 0.01))\n",
        "    Z = model(torch.from_numpy(np.c_[xx.ravel(), yy.ravel()].astype(np.float32)))\n",
        "    Z = Z.reshape(xx.shape)\n",
        "    plt.contourf(xx, yy, Z.detach().numpy(), alpha=0.8)\n",
        "    plt.scatter(X[:, 0], X[:, 1], c=Y.numpy(), edgecolors='g')\n",
        "    plt.show()\n",
        "\n",
        "# Generate data\n",
        "X, Y = generate_logic_gate_data('AND')\n",
        "\n",
        "# Initialize and train the model (Assuming the model has already been trained)\n",
        "model = LogicGateNN()\n",
        "criterion = nn.BCELoss()\n",
        "optimizer = optim.SGD(model.parameters(), lr=0.1)\n",
        "\n",
        "epochs = 10000\n",
        "for epoch in range(epochs):\n",
        "    optimizer.zero_grad()\n",
        "    output = model(X)\n",
        "    loss = criterion(output, Y)\n",
        "    loss.backward()\n",
        "    optimizer.step()\n",
        "    if (epoch+1) % 1000 == 0:\n",
        "        print(f'Epoch [{epoch+1}/{epochs}], Loss: {loss.item():.4f}')\n",
        "\n",
        "# Plot decision boundary\n",
        "plot_decision_boundary(model, X, Y)"
      ],
      "metadata": {
        "colab": {
          "base_uri": "https://localhost:8080/",
          "height": 613
        },
        "id": "dS1JLM52RNSu",
        "outputId": "26ec0e58-bcce-497c-8b1d-b84b473afd86"
      },
      "execution_count": 42,
      "outputs": [
        {
          "output_type": "stream",
          "name": "stdout",
          "text": [
            "Epoch [1000/10000], Loss: 0.2436\n",
            "Epoch [2000/10000], Loss: 0.0712\n",
            "Epoch [3000/10000], Loss: 0.0340\n",
            "Epoch [4000/10000], Loss: 0.0212\n",
            "Epoch [5000/10000], Loss: 0.0151\n",
            "Epoch [6000/10000], Loss: 0.0116\n",
            "Epoch [7000/10000], Loss: 0.0093\n",
            "Epoch [8000/10000], Loss: 0.0078\n",
            "Epoch [9000/10000], Loss: 0.0066\n",
            "Epoch [10000/10000], Loss: 0.0058\n"
          ]
        },
        {
          "output_type": "display_data",
          "data": {
            "text/plain": [
              "<Figure size 640x480 with 1 Axes>"
            ],
            "image/png": "[encoded data removed]"
          },
          "metadata": {}
        }
      ]
    },
    {
      "cell_type": "code",
      "source": [
        "import gradio as gr\n",
        "\n",
        "def predict_logic_gate(input):\n",
        "    input = torch.Tensor([input])\n",
        "    with torch.no_grad():\n",
        "        output = model(input)\n",
        "    return output.item()\n",
        "\n",
        "iface = gr.Interface(fn=predict_logic_gate, inputs=\"number\", outputs=\"number\")\n",
        "iface.launch()\n"
      ],
      "metadata": {
        "colab": {
          "base_uri": "https://localhost:8080/",
          "height": 650
        },
        "id": "xwAe0PHtR75U",
        "outputId": "11bb8a3c-8ae9-464d-af50-ebb54d9eaaff"
      },
      "execution_count": 51,
      "outputs": [
        {
          "output_type": "stream",
          "name": "stdout",
          "text": [
            "Setting queue=True in a Colab notebook requires sharing enabled. Setting `share=True` (you can turn this off by setting `share=False` in `launch()` explicitly).\n",
            "\n",
            "Colab notebook detected. To show errors in colab notebook, set debug=True in launch()\n",
            "Running on public URL: https://cb41d55679874ee52b.gradio.live\n",
            "\n",
            "This share link expires in 72 hours. For free permanent hosting and GPU upgrades, run `gradio deploy` from Terminal to deploy to Spaces (https://huggingface.co/spaces)\n"
          ]
        },
        {
          "output_type": "display_data",
          "data": {
            "text/plain": [
              "<IPython.core.display.HTML object>"
            ],
            "text/html": [
              "<div><iframe src=\"https://cb41d55679874ee52b.gradio.live\" width=\"100%\" height=\"500\" allow=\"autoplay; camera; microphone; clipboard-read; clipboard-write;\" frameborder=\"0\" allowfullscreen></iframe></div>"
            ]
          },
          "metadata": {}
        },
        {
          "output_type": "execute_result",
          "data": {
            "text/plain": []
          },
          "metadata": {},
          "execution_count": 51
        }
      ]
    },
    {
      "cell_type": "code",
      "source": [
        "def plot_weights(model):\n",
        "    first_layer_weights = model.layer1.weight.data\n",
        "    fig, axes = plt.subplots(1, 2, figsize=(6, 3))\n",
        "    for i, ax in enumerate(axes.flat):\n",
        "        ax.imshow(first_layer_weights[i].unsqueeze(0).numpy(), cmap='viridis', aspect='auto')\n",
        "        ax.set_title(f'Neuron {i+1}')\n",
        "    plt.show()\n",
        "\n",
        "plot_weights(model)\n"
      ],
      "metadata": {
        "colab": {
          "base_uri": "https://localhost:8080/",
          "height": 314
        },
        "id": "g_G8rw4BTFCL",
        "outputId": "9271354d-42c7-457c-9830-5de846d52a1e"
      },
      "execution_count": 44,
      "outputs": [
        {
          "output_type": "display_data",
          "data": {
            "text/plain": [
              "<Figure size 600x300 with 2 Axes>"
            ],
            "image/png": "[encoded data removed]"
          },
          "metadata": {}
        }
      ]
    },
    {
      "cell_type": "code",
      "source": [
        "def predict_digit(image):\n",
        "    image = image.view(-1, 28*28)\n",
        "    with torch.no_grad():\n",
        "        output = model(image)\n",
        "    return torch.argmax(output, 1).item()\n",
        "\n",
        "iface = gr.Interface(fn=predict_digit, inputs=\"sketchpad\", outputs=\"number\", live=True)\n",
        "iface.launch()\n"
      ],
      "metadata": {
        "colab": {
          "base_uri": "https://localhost:8080/",
          "height": 650
        },
        "id": "tliRy0xDSr0v",
        "outputId": "bf18a502-b171-4369-c651-e674fc6ec912"
      },
      "execution_count": 45,
      "outputs": [
        {
          "output_type": "stream",
          "name": "stdout",
          "text": [
            "Setting queue=True in a Colab notebook requires sharing enabled. Setting `share=True` (you can turn this off by setting `share=False` in `launch()` explicitly).\n",
            "\n",
            "Colab notebook detected. To show errors in colab notebook, set debug=True in launch()\n",
            "Running on public URL: https://335c6cb2accf84299b.gradio.live\n",
            "\n",
            "This share link expires in 72 hours. For free permanent hosting and GPU upgrades, run `gradio deploy` from Terminal to deploy to Spaces (https://huggingface.co/spaces)\n"
          ]
        },
        {
          "output_type": "display_data",
          "data": {
            "text/plain": [
              "<IPython.core.display.HTML object>"
            ],
            "text/html": [
              "<div><iframe src=\"https://335c6cb2accf84299b.gradio.live\" width=\"100%\" height=\"500\" allow=\"autoplay; camera; microphone; clipboard-read; clipboard-write;\" frameborder=\"0\" allowfullscreen></iframe></div>"
            ]
          },
          "metadata": {}
        },
        {
          "output_type": "execute_result",
          "data": {
            "text/plain": []
          },
          "metadata": {},
          "execution_count": 45
        }
      ]
    }
  ]
}